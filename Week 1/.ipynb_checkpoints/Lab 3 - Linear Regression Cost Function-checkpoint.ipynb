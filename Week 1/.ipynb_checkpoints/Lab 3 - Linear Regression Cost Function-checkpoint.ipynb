{
 "cells": [
  {
   "cell_type": "markdown",
   "id": "942846f7-2eec-41e5-a661-e2e51a77948e",
   "metadata": {},
   "source": [
    "This lab focuses on building a simple cost function (sum of square error) from a linear model."
   ]
  },
  {
   "cell_type": "code",
   "execution_count": 3,
   "id": "ae4088a4-6d44-4f61-8b7e-87c8eca6ae46",
   "metadata": {},
   "outputs": [],
   "source": [
    "# Import tools\n",
    "import numpy as np\n",
    "#%matplotlib widget\n",
    "import matplotlib.pyplot as plt\n",
    "#from lab_utils_uni import plt_intuition, plt_stationary, plt_update_onclick, soup_bowl"
   ]
  },
  {
   "cell_type": "code",
   "execution_count": 4,
   "id": "1dadb8dd-91f7-4338-bd7c-ade48d6a223b",
   "metadata": {},
   "outputs": [],
   "source": [
    "# Define training set\n",
    "x_train = np.array([1.0, 2.0]) #size in 1000 square feet\n",
    "y_train = np.array([300.0, 500.0]) # price in 1000s of dollars"
   ]
  },
  {
   "cell_type": "code",
   "execution_count": 5,
   "id": "37d87cd6-dc10-47f5-a6fe-fdf7b2b9823e",
   "metadata": {},
   "outputs": [],
   "source": [
    "# Define the model \n",
    "def linear_model(x, w, b): \n",
    "    \"\"\"\n",
    "    Computes the output based on the input (x), slope (w) and y-intercept (b)\n",
    "    Args:\n",
    "        x (ndarray (m, )): Data, m examples\n",
    "        w, b (scalar)    : Parameters\n",
    "    Returns:\n",
    "        y (ndarray (m, )): Predicted data, m examples\n",
    "    \"\"\"\n",
    "    m = x.shape[0] # size of training set\n",
    "    y = np.zeros(m)\n",
    "    for i in range(m): \n",
    "        y[i] = w * x[i] + b\n",
    "    return y\n",
    "\n",
    "# Define the cost function\n",
    "def compute_cost(x, y, w, b):\n",
    "    \"\"\"\n",
    "    Computes the cost function for linear regression\n",
    "    Args: \n",
    "        x (ndarray (m, )): Training data input, m examples\n",
    "        y (ndarray (m, )): Training data output, m examples\n",
    "        w, b (scalar)    : Parameters\n",
    "    Returns: \n",
    "        total_cost (float): The cost of using w, b as parameters for linear regression to fit\n",
    "        the data points in x and y\n",
    "    \"\"\"\n",
    "    m = x.shape[0] # size of training set\n",
    "    y_predicted = linear_model(x, w, b)\n",
    "    cost_sum = np.sum((y_predicted - y)**2)\n",
    "    total_cost = (1 / (2*m)) * cost_sum\n",
    "    return total_cost"
   ]
  },
  {
   "cell_type": "code",
   "execution_count": 8,
   "id": "d6e877a1-412c-4cdb-b66e-4aec6777faf3",
   "metadata": {},
   "outputs": [
    {
     "name": "stdout",
     "output_type": "stream",
     "text": [
      "The cost of using w: 200 and b: 100 is: 0.0\n"
     ]
    }
   ],
   "source": [
    "# Test the cost function\n",
    "w = 200\n",
    "b = 100\n",
    "cost = compute_cost(x_train, y_train, w, b)\n",
    "print(f\"The cost of using w: {w} and b: {b} is: {cost}\")"
   ]
  },
  {
   "cell_type": "markdown",
   "id": "7f9fe484-1797-4e85-bda5-bcd11d0f489f",
   "metadata": {},
   "source": [
    "Note: The lab uses packages that are not available in this version of the lab to visualise the cost function in a 3D manner. However, it all seems intuitive and I have no questions. "
   ]
  }
 ],
 "metadata": {
  "kernelspec": {
   "display_name": "Python 3 (ipykernel)",
   "language": "python",
   "name": "python3"
  },
  "language_info": {
   "codemirror_mode": {
    "name": "ipython",
    "version": 3
   },
   "file_extension": ".py",
   "mimetype": "text/x-python",
   "name": "python",
   "nbconvert_exporter": "python",
   "pygments_lexer": "ipython3",
   "version": "3.10.5"
  }
 },
 "nbformat": 4,
 "nbformat_minor": 5
}
