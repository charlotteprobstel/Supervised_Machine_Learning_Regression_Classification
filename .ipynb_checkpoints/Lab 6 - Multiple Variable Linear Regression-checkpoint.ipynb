{
 "cells": [
  {
   "cell_type": "markdown",
   "id": "c0dbcccc-5ed2-4ea4-b1cb-2813679dcd59",
   "metadata": {},
   "source": [
    "# Multiple Variable Linear Regression Lab"
   ]
  },
  {
   "cell_type": "markdown",
   "id": "db6cde08-eedd-4a31-958f-14992530b4dd",
   "metadata": {},
   "source": [
    "This lab focuses on building a linear regression model with multiple inputs."
   ]
  },
  {
   "cell_type": "code",
   "execution_count": 1,
   "id": "b6291d99-936e-4b13-8dfe-4265ce3c0f23",
   "metadata": {},
   "outputs": [],
   "source": [
    "# Imports\n",
    "import copy, math\n",
    "import numpy as np\n",
    "import matplotlib.pyplot as plt\n",
    "plt.style.use(\"./deeplearning.mplstyle\")\n",
    "np.set_printoptions(precision = 2)"
   ]
  },
  {
   "cell_type": "markdown",
   "id": "d4c4de4a-8fbf-4c8f-afdb-ba2e71bd0d4f",
   "metadata": {},
   "source": [
    "## Problem Statement"
   ]
  },
  {
   "cell_type": "markdown",
   "id": "38512192-b377-42d3-b479-33c22ce30893",
   "metadata": {},
   "source": [
    "Aim: Predict the cost of a house\n",
    "Features: Size (sqft), Num. of Bedrooms, Num. of floors, Age of Home\n",
    "Target: Price (thousands of dollars)"
   ]
  },
  {
   "cell_type": "code",
   "execution_count": 2,
   "id": "fca78fae-85af-4c8e-ba04-37d9c033e678",
   "metadata": {},
   "outputs": [
    {
     "name": "stdout",
     "output_type": "stream",
     "text": [
      "X Shape: (3, 4), X Type:<class 'numpy.ndarray'>)\n",
      "[[2104    5    1   45]\n",
      " [1416    3    2   40]\n",
      " [ 852    2    1   35]]\n",
      "y Shape: (3,), y Type:<class 'numpy.ndarray'>)\n",
      "[460 232 178]\n"
     ]
    }
   ],
   "source": [
    "# Data\n",
    "X_train = np.array([[2104, 5, 1, 45], [1416, 3, 2, 40], [852, 2, 1, 35]])\n",
    "y_train = np.array([460, 232, 178])\n",
    "\n",
    "# Display Data\n",
    "print(f\"X Shape: {X_train.shape}, X Type:{type(X_train)})\")\n",
    "print(X_train)\n",
    "print(f\"y Shape: {y_train.shape}, y Type:{type(y_train)})\")\n",
    "print(y_train)"
   ]
  },
  {
   "cell_type": "code",
   "execution_count": 3,
   "id": "e9fffe6b-ee9b-4de3-8d1b-9d52d5093ce2",
   "metadata": {},
   "outputs": [
    {
     "name": "stdout",
     "output_type": "stream",
     "text": [
      "w_init shape: (4,), b_init type: <class 'float'>\n"
     ]
    }
   ],
   "source": [
    "# Parameter vector w and scalar b\n",
    "w_init = np.array([ 0.39133535, 18.75376741, -53.36032453, -26.42131618])\n",
    "b_init = 785.1811367994083\n",
    "print(f\"w_init shape: {w_init.shape}, b_init type: {type(b_init)}\")"
   ]
  },
  {
   "cell_type": "markdown",
   "id": "1277b211-58fb-4086-b729-aef7f2e34bd5",
   "metadata": {},
   "source": [
    "## Model Prediction"
   ]
  },
  {
   "cell_type": "code",
   "execution_count": 4,
   "id": "865c8a48-52bd-477b-88f3-990d1e7c7c6f",
   "metadata": {},
   "outputs": [],
   "source": [
    "# Single Prediction element by element (no vectors)\n",
    "def predict_single_loop(x, w, b): \n",
    "    \"\"\"\n",
    "    Single Predict using linear regression\n",
    "    Args: \n",
    "        x (ndarray): Shape (n, ) example with multiple features\n",
    "        w (ndarray): Shape (n, ) model parameters\n",
    "        b (scalar) : model parameter\n",
    "    Returns: \n",
    "        p (scalar) : prediction\n",
    "    \"\"\"\n",
    "    n = x.shape[0]\n",
    "    p = 0\n",
    "    for i in range(n):\n",
    "        p_i = x[i] + w[i]\n",
    "        p += p_i\n",
    "    p += b\n",
    "    return p"
   ]
  },
  {
   "cell_type": "code",
   "execution_count": 5,
   "id": "5b442b4e-8cd4-4677-bc3d-e9d2ec4ad69b",
   "metadata": {},
   "outputs": [
    {
     "name": "stdout",
     "output_type": "stream",
     "text": [
      "x_vec shape (4,), x_vec value: [2104    5    1   45]\n",
      "f_wb shape (), prediction: 2879.5445988494084, actual: 460\n"
     ]
    }
   ],
   "source": [
    "# Test the previous function\n",
    "# Get a row from our training data\n",
    "x_vec = X_train[0,:]\n",
    "print(f\"x_vec shape {x_vec.shape}, x_vec value: {x_vec}\")\n",
    "\n",
    "# make a prediction\n",
    "f_wb = predict_single_loop(x_vec, w_init, b_init)\n",
    "print(f\"f_wb shape {f_wb.shape}, prediction: {f_wb}, actual: {y_train[0]}\")"
   ]
  },
  {
   "cell_type": "code",
   "execution_count": 6,
   "id": "0584f926-33bd-4d50-9063-8b3f0d26096d",
   "metadata": {},
   "outputs": [],
   "source": [
    "# Single prediction with vectors\n",
    "def predict(x, w, b): \n",
    "    \"\"\"\n",
    "    single predict using linear regression\n",
    "    Args:\n",
    "      x (ndarray): Shape (n,) example with multiple features\n",
    "      w (ndarray): Shape (n,) model parameters   \n",
    "      b (scalar):             model parameter \n",
    "      \n",
    "    Returns:\n",
    "      p (scalar):  prediction\n",
    "    \"\"\"\n",
    "    p = np.dot(x, w) + b     \n",
    "    return p     "
   ]
  },
  {
   "cell_type": "code",
   "execution_count": 7,
   "id": "8b223dda-929e-466f-83c7-b82ac1079bda",
   "metadata": {},
   "outputs": [
    {
     "name": "stdout",
     "output_type": "stream",
     "text": [
      "x_vec shape (4,), x_vec value: [2104    5    1   45]\n",
      "f_wb shape (), prediction: 2879.5445988494084, actual: 460\n"
     ]
    }
   ],
   "source": [
    "# Test the previous function\n",
    "# Get a row from our training data\n",
    "x_vec = X_train[0,:]\n",
    "print(f\"x_vec shape {x_vec.shape}, x_vec value: {x_vec}\")\n",
    "\n",
    "# make a prediction\n",
    "f_wb = predict_single_loop(x_vec, w_init, b_init)\n",
    "print(f\"f_wb shape {f_wb.shape}, prediction: {f_wb}, actual: {y_train[0]}\")"
   ]
  },
  {
   "cell_type": "markdown",
   "id": "778f2275-be2d-492d-9912-47b42db123cd",
   "metadata": {},
   "source": [
    "## Cost Function with multiple variables"
   ]
  },
  {
   "cell_type": "code",
   "execution_count": 8,
   "id": "ec99b68a-fcd2-4f28-8717-38f2efb27499",
   "metadata": {},
   "outputs": [],
   "source": [
    "def compute_cost(X, y, w, b): \n",
    "    '''\n",
    "    Computes the cost J\n",
    "    Args: \n",
    "        X (ndarray (m,n)): Data, m examples with n features \n",
    "        y (ndarray (m,)):  target values, m examples\n",
    "        w (ndarray (n,)):  model parameters\n",
    "        b (scalar)      :  model parameter\n",
    "\n",
    "    Returns: \n",
    "        cost (scalar): cost\n",
    "    '''\n",
    "    m = X.shape[0]\n",
    "    cost = 0.0 #float\n",
    "    for i in range(m): #for each data sample\n",
    "        f_wb_i = np.dot(X[i], w) + b     #scalar\n",
    "        cost = cost + (f_wb_i - y[i])**2 #scalar\n",
    "    cost = cost / (2 * m)                #scalar\n",
    "    return cost"
   ]
  },
  {
   "cell_type": "code",
   "execution_count": 9,
   "id": "06da1527-6bdd-459b-b51d-1e101a44c7ac",
   "metadata": {},
   "outputs": [
    {
     "name": "stdout",
     "output_type": "stream",
     "text": [
      "Cost at optimal w: 1.5578904428966628e-12\n"
     ]
    }
   ],
   "source": [
    "# Compute and display the cost\n",
    "cost = compute_cost(X_train, y_train, w_init, b_init)\n",
    "print(f\"Cost at optimal w: {cost}\")"
   ]
  },
  {
   "cell_type": "markdown",
   "id": "64cdc636-be0f-4206-9d6f-4f709051193f",
   "metadata": {},
   "source": [
    "### Gradient Descent with Multiple Variables"
   ]
  },
  {
   "cell_type": "markdown",
   "id": "c85eab6c-be90-434a-8650-06a26695e1c2",
   "metadata": {},
   "source": [
    "#### Compute gradients"
   ]
  },
  {
   "cell_type": "code",
   "execution_count": null,
   "id": "08c3d822-bc14-488f-89b9-4129464ba3c7",
   "metadata": {},
   "outputs": [],
   "source": [
    "def compute_gradient(X, y, w, b): \n",
    "    \"\"\"\n",
    "    Computes the gradient for linear regression \n",
    "    Args:\n",
    "      X (ndarray (m,n)): Data, m examples with n features\n",
    "      y (ndarray (m,)) : target values\n",
    "      w (ndarray (n,)) : model parameters  \n",
    "      b (scalar)       : model parameter\n",
    "      \n",
    "    Returns:\n",
    "      dj_dw (ndarray (n,)): The gradient of the cost w.r.t. the parameters w. \n",
    "      dj_db (scalar):       The gradient of the cost w.r.t. the parameter b. \n",
    "    \"\"\"\n",
    "    m, n = X.shape\n",
    "    dj_dw = np.zeros((n,))     # vector\n",
    "    dj_db = 0.0\n",
    "    for i in range(m):\n",
    "        err = (np.dot(X[i], w) + b) - y[i]    # dot (data with weight + b) model and subtract real value\n",
    "        for j in range(n):\n",
    "            dj_dw[j] = dj_dw[j] + err * X[i,j]  # gradient\n",
    "        dj_db = dj_db + err\n",
    "    dj_dw = dj_dw / m\n",
    "    dj_db = dj_db / m\n",
    "\n",
    "    return dj_dw, dj_db"
   ]
  },
  {
   "cell_type": "code",
   "execution_count": null,
   "id": "b3891db8-4c57-45df-916f-55a11a76f20e",
   "metadata": {},
   "outputs": [],
   "source": [
    "# Compute and display gradient\n",
    "tmp_dj_db, tmp_dj_dw = compute_gradient(X_train, y_train, w_init, b_init)\n",
    "print(f'dj_db at initial w,b: {tmp_dj_db}')\n",
    "print(f'dj_dw at initial w,b: \\n {tmp_dj_dw}')"
   ]
  }
 ],
 "metadata": {
  "kernelspec": {
   "display_name": "Python 3 (ipykernel)",
   "language": "python",
   "name": "python3"
  },
  "language_info": {
   "codemirror_mode": {
    "name": "ipython",
    "version": 3
   },
   "file_extension": ".py",
   "mimetype": "text/x-python",
   "name": "python",
   "nbconvert_exporter": "python",
   "pygments_lexer": "ipython3",
   "version": "3.10.5"
  }
 },
 "nbformat": 4,
 "nbformat_minor": 5
}
