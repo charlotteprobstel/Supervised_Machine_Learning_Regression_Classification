{
 "cells": [
  {
   "cell_type": "markdown",
   "id": "a1f34128-af06-48b9-a4f0-fff55073a89a",
   "metadata": {},
   "source": [
    "# Optional Lab: Brief Introduction to Python and Jupyter Notebooks "
   ]
  },
  {
   "cell_type": "code",
   "execution_count": 1,
   "id": "f4c8343e-adc9-41c7-ad23-43ddfc06c279",
   "metadata": {},
   "outputs": [
    {
     "name": "stdout",
     "output_type": "stream",
     "text": [
      "This is a code cell\n"
     ]
    }
   ],
   "source": [
    "# This is \"code cell\"\n",
    "print(\"This is a code cell\")"
   ]
  },
  {
   "cell_type": "code",
   "execution_count": 5,
   "id": "9caa1c26-8c39-4cdf-a407-578c61cd9957",
   "metadata": {},
   "outputs": [
    {
     "name": "stdout",
     "output_type": "stream",
     "text": [
      "My name is Charlotte and my age is 21\n"
     ]
    }
   ],
   "source": [
    "# Lets practice with some text\n",
    "name = \"Charlotte\"\n",
    "age = 21\n",
    "print(f\"My name is {name} and my age is {age}\") \n",
    "# Notice how the int age does not need to be converted into a string"
   ]
  },
  {
   "cell_type": "code",
   "execution_count": 6,
   "id": "95a38d03-30a2-46f1-b1fc-885bd05ea3bd",
   "metadata": {},
   "outputs": [
    {
     "name": "stdout",
     "output_type": "stream",
     "text": [
      "My name is {name} and my age is {age}\n"
     ]
    }
   ],
   "source": [
    "# The f before the string indicates the use of {} variables\n",
    "print(\"My name is {name} and my age is {age}\") "
   ]
  },
  {
   "cell_type": "code",
   "execution_count": null,
   "id": "d846c525-699a-4b83-8804-244534855616",
   "metadata": {},
   "outputs": [],
   "source": []
  },
  {
   "cell_type": "code",
   "execution_count": null,
   "id": "c25d5c37-a54c-427d-b5a7-2981eb0b4af1",
   "metadata": {},
   "outputs": [],
   "source": []
  }
 ],
 "metadata": {
  "kernelspec": {
   "display_name": "Python 3 (ipykernel)",
   "language": "python",
   "name": "python3"
  },
  "language_info": {
   "codemirror_mode": {
    "name": "ipython",
    "version": 3
   },
   "file_extension": ".py",
   "mimetype": "text/x-python",
   "name": "python",
   "nbconvert_exporter": "python",
   "pygments_lexer": "ipython3",
   "version": "3.10.5"
  }
 },
 "nbformat": 4,
 "nbformat_minor": 5
}
