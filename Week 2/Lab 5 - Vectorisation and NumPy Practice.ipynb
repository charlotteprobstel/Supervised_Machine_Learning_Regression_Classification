{
 "cells": [
  {
   "cell_type": "markdown",
   "id": "acacf626-e6b5-4848-bf86-89a507a03e7f",
   "metadata": {},
   "source": [
    "Technical Lab: This lab focuses on using NumPy to vectorise. "
   ]
  },
  {
   "cell_type": "code",
   "execution_count": 1,
   "id": "a1fbc805-ef75-4b34-93f2-52f713a6342d",
   "metadata": {},
   "outputs": [],
   "source": [
    "# Imports\n",
    "import numpy as np\n",
    "import time "
   ]
  },
  {
   "cell_type": "markdown",
   "id": "2a8b82f9-8417-4b9f-ae4f-7976e0da6008",
   "metadata": {},
   "source": [
    "### Vectors"
   ]
  },
  {
   "cell_type": "code",
   "execution_count": 6,
   "id": "93a625e1-fffd-40f6-9c0b-0c5106447fa5",
   "metadata": {},
   "outputs": [
    {
     "name": "stdout",
     "output_type": "stream",
     "text": [
      "np.zeros(4) :   a = [0. 0. 0. 0.], a shape = (4,), a data type = float64\n",
      "np.zeros((4,)) :   a = [0. 0. 0. 0.], a shape = (4,), a data type = float64\n",
      "np.random.random_sample(4) :   a = [0.50991515 0.68754749 0.11362279 0.6025375 ], a shape = (4,), a data type = float64\n",
      "np.arange(4.):     a = [0. 1. 2. 3.], a shape = (4,), a data type = float64\n",
      "np.random.rand(4): a = [0.58826574 0.84296888 0.13031442 0.42443888], a shape = (4,), a data type = float64\n",
      "np.array([5,4,3,2]):  a = [5 4 3 2],     a shape = (4,), a data type = int64\n",
      "np.array([5.,4,3,2]): a = [5. 4. 3. 2.], a shape = (4,), a data type = float64\n"
     ]
    }
   ],
   "source": [
    "# An array of 4 zeros (floats)\n",
    "a = np.zeros(4); print(f\"np.zeros(4) :   a = {a}, a shape = {a.shape}, a data type = {a.dtype}\")\n",
    "# An array of 4 zeros (floats)\n",
    "a = np.zeros((4,)); print(f\"np.zeros((4,)) :   a = {a}, a shape = {a.shape}, a data type = {a.dtype}\")\n",
    "# An array of 4 random floats between 0 and 1\n",
    "a = np.random.random_sample(4); print(f\"np.random.random_sample(4) :   a = {a}, a shape = {a.shape}, a data type = {a.dtype}\")\n",
    "# An array of numbers 0 - 3\n",
    "a = np.arange(4.); print(f\"np.arange(4.):     a = {a}, a shape = {a.shape}, a data type = {a.dtype}\")\n",
    "# An array of 4 random floats between 0 and 1\n",
    "a = np.random.rand(4); print(f\"np.random.rand(4): a = {a}, a shape = {a.shape}, a data type = {a.dtype}\")\n",
    "# An array of 4 assigned integers\n",
    "a = np.array([5,4,3,2]);  print(f\"np.array([5,4,3,2]):  a = {a},     a shape = {a.shape}, a data type = {a.dtype}\")\n",
    "# An array of 4 assigned floats\n",
    "a = np.array([5.,4,3,2]); print(f\"np.array([5.,4,3,2]): a = {a}, a shape = {a.shape}, a data type = {a.dtype}\")"
   ]
  },
  {
   "cell_type": "markdown",
   "id": "57bd84cb-1b0f-4891-b824-8a08ddef2754",
   "metadata": {},
   "source": [
    "### Indexing"
   ]
  },
  {
   "cell_type": "code",
   "execution_count": 7,
   "id": "16881fa5-bd83-41b9-841f-5afd79faf367",
   "metadata": {},
   "outputs": [
    {
     "name": "stdout",
     "output_type": "stream",
     "text": [
      "[0 1 2 3 4 5 6 7 8 9]\n",
      "a[2].shape: () a[2] = 2, Accessing an element returns a scalar\n",
      "a[-1] = 9\n",
      "The error message you'll see is:\n",
      "index 10 is out of bounds for axis 0 with size 10\n"
     ]
    }
   ],
   "source": [
    "# 1D vectors indexing practice\n",
    "a = np.arange(10) #0-9\n",
    "print(a)\n",
    "\n",
    "# Accessing an element\n",
    "print(f\"a[2].shape: {a[2].shape} a[2] = {a[2]}, Accessing an element returns a scalar\")\n",
    "\n",
    "# Accessing the last element \n",
    "print(f\"a[-1] = {a[-1]}\")\n",
    "\n",
    "# Indexing must be within range\n",
    "try: \n",
    "    c = a[10] #out of range\n",
    "except Exception as e: \n",
    "    print(\"The error message you'll see is:\")\n",
    "    print(e)"
   ]
  },
  {
   "cell_type": "markdown",
   "id": "409fe28a-6ae4-4c5c-8254-82bd7ee8b7b1",
   "metadata": {},
   "source": [
    "### Slicing"
   ]
  },
  {
   "cell_type": "code",
   "execution_count": 8,
   "id": "3a1bdb0e-aaa6-4bd4-9b98-0a2f95e6c70c",
   "metadata": {},
   "outputs": [
    {
     "name": "stdout",
     "output_type": "stream",
     "text": [
      "a[2:7:1] =  [2 3 4 5 6]\n",
      "a[2:7:2] =  [2 4 6]\n",
      "a[3:] =  [3 4 5 6 7 8 9]\n",
      "a[:3] =  [0 1 2]\n",
      "a[:] =  [0 1 2 3 4 5 6 7 8 9]\n"
     ]
    }
   ],
   "source": [
    "# 1D Vector slicing practice\n",
    "# Use a from previous exercise \n",
    "\n",
    "# Access 5 consecutive elements (start:stop:step)\n",
    "c = a[2:7:1];     print(\"a[2:7:1] = \", c)\n",
    "\n",
    "# Access 3 elements seperated by two\n",
    "c = a[2:7:2];     print(\"a[2:7:2] = \", c)\n",
    "\n",
    "# Access all elements index 3 and above\n",
    "c = a[3:];     print(\"a[3:] = \", c)\n",
    "\n",
    "# Access all elements below index 3 (excl.)\n",
    "c = a[:3];     print(\"a[:3] = \", c)\n",
    "\n",
    "# Access all elements\n",
    "c = a[:];     print(\"a[:] = \", c)"
   ]
  },
  {
   "cell_type": "markdown",
   "id": "57a2d0bc-5bd1-4440-a36f-6b5fa31f2575",
   "metadata": {},
   "source": [
    "### Single Vector Operations"
   ]
  },
  {
   "cell_type": "code",
   "execution_count": 10,
   "id": "5c60c887-483a-42a6-bec4-34285625de98",
   "metadata": {},
   "outputs": [
    {
     "name": "stdout",
     "output_type": "stream",
     "text": [
      "a              : [0 1 2 3]\n",
      "b = -a         : [ 0 -1 -2 -3]\n",
      "b = np.sum(a)  : 6\n",
      "b = np.mean(a) : 1.5\n",
      "b = a**2       : [0 1 4 9]\n"
     ]
    }
   ],
   "source": [
    "# Sample\n",
    "a = np.arange(4)\n",
    "print(f\"a              : {a}\")\n",
    "\n",
    "# Negate a\n",
    "b = -a\n",
    "print(f\"b = -a         : {b}\")\n",
    "\n",
    "# Sum all elements of a \n",
    "b = np.sum(a)\n",
    "print(f\"b = np.sum(a)  : {b}\")\n",
    "\n",
    "# Find the mean of a\n",
    "b = np.mean(a)\n",
    "print(f\"b = np.mean(a) : {b}\")\n",
    "\n",
    "# Square each element of a\n",
    "b = a ** 2\n",
    "print(f\"b = a**2       : {b}\")"
   ]
  },
  {
   "cell_type": "markdown",
   "id": "779adec6-4ab4-4060-9441-5536229f1ef1",
   "metadata": {},
   "source": [
    "## Matrices"
   ]
  },
  {
   "cell_type": "code",
   "execution_count": 11,
   "id": "8da6738a-4029-4feb-aa44-62bf5ab04983",
   "metadata": {},
   "outputs": [
    {
     "name": "stdout",
     "output_type": "stream",
     "text": [
      "a shape = (1, 5), a = [[0. 0. 0. 0. 0.]]\n",
      "a shape = (2, 1), a = [[0.]\n",
      " [0.]]\n",
      "a shape = (1, 1), a = [[0.51967755]]\n"
     ]
    }
   ],
   "source": [
    "# Creating \n",
    "a = np.zeros((1,5))  # (down, side) (y, x) (rows, columns)\n",
    "print(f\"a shape = {a.shape}, a = {a}\")  \n",
    "\n",
    "a = np.zeros((2,1))\n",
    "print(f\"a shape = {a.shape}, a = {a}\")  \n",
    "\n",
    "a = np.random.random_sample((1,1))\n",
    "print(f\"a shape = {a.shape}, a = {a}\")  "
   ]
  },
  {
   "cell_type": "markdown",
   "id": "a346fa11-a6d3-4774-ab19-88fc42f090a0",
   "metadata": {},
   "source": [
    "### Indexing"
   ]
  },
  {
   "cell_type": "code",
   "execution_count": 20,
   "id": "e34e7470-7e6f-4b4a-8d99-c29481e12374",
   "metadata": {},
   "outputs": [
    {
     "ename": "SyntaxError",
     "evalue": "f-string: invalid syntax (2733674934.py, line 11)",
     "output_type": "error",
     "traceback": [
      "\u001b[0;36m  Cell \u001b[0;32mIn[20], line 11\u001b[0;36m\u001b[0m\n\u001b[0;31m    print(f\"a[,1] = {a[,1]}\")\u001b[0m\n\u001b[0m       ^\u001b[0m\n\u001b[0;31mSyntaxError\u001b[0m\u001b[0;31m:\u001b[0m f-string: invalid syntax\n"
     ]
    }
   ],
   "source": [
    "# Reshaping a 1D into a 2D\n",
    "a = np.arange(6).reshape(-1,2) #the -1 acts a way saying \"dont care how many rows, just two columns\"\n",
    "print(f\"a.shape: {a.shape}, \\na= {a}\")\n",
    "\n",
    "# Accessing an element\n",
    "print(f\"a[2,0] = {a[2, 0]},    type(a[2,0]) = {type(a[2, 0])} Accessing an element returns a scalar\\n\")\n",
    "\n",
    "# Accessing a row\n",
    "print(f\"a[2] = {a[2]},    type(a[2]) = {type(a[2])} Accessing a row returns an array\\n\")"
   ]
  },
  {
   "cell_type": "markdown",
   "id": "118fc16f-aa66-476e-89cb-b459b7413221",
   "metadata": {},
   "source": [
    "### Slicing"
   ]
  },
  {
   "cell_type": "code",
   "execution_count": 22,
   "id": "d9fdaee8-d7ab-495d-81ab-b3356db3fea1",
   "metadata": {},
   "outputs": [
    {
     "name": "stdout",
     "output_type": "stream",
     "text": [
      "a = \n",
      "[[ 0  1  2  3  4  5  6  7  8  9]\n",
      " [10 11 12 13 14 15 16 17 18 19]]\n",
      "a[0, 2:7:1] =  [2 3 4 5 6] ,  a[0, 2:7:1].shape = (5,) a 1-D array\n",
      "a[:, 2:7:1] =  [[ 2  3  4  5  6]\n",
      " [12 13 14 15 16]] ,  a[:, 2:7:1].shape = (2, 5) a 2-D array\n",
      "a[:,:] =  [[ 0  1  2  3  4  5  6  7  8  9]\n",
      " [10 11 12 13 14 15 16 17 18 19]] ,  a[:,:].shape = (2, 10)\n",
      "a[1,:] =  [10 11 12 13 14 15 16 17 18 19] ,  a[1,:].shape = (10,) a 1-D array\n",
      "a[1]   =  [10 11 12 13 14 15 16 17 18 19] ,  a[1].shape   = (10,) a 1-D array\n"
     ]
    }
   ],
   "source": [
    "# 2D slicing operations\n",
    "a = np.arange(20).reshape(-1, 10)\n",
    "print(f\"a = \\n{a}\")\n",
    "\n",
    "# Accessing 5 consecutive elements (start:stop:step)\n",
    "print(\"a[0, 2:7:1] = \", a[0, 2:7:1], \",  a[0, 2:7:1].shape =\", a[0, 2:7:1].shape, \"a 1-D array\")\n",
    "\n",
    "# Accessing 5 consecutive elements (start:stop:step) in two rows\n",
    "print(\"a[:, 2:7:1] = \", a[:, 2:7:1], \",  a[:, 2:7:1].shape =\", a[:, 2:7:1].shape, \"a 2-D array\")\n",
    "\n",
    "# Accessing all elements\n",
    "print(\"a[:,:] = \", a[:,:], \",  a[:,:].shape =\", a[:,:].shape)\n",
    "\n",
    "# Accessing all elements in one row\n",
    "print(\"a[1,:] = \", a[1,:], \",  a[1,:].shape =\", a[1,:].shape, \"a 1-D array\")\n",
    "print(\"a[1]   = \", a[1],   \",  a[1].shape   =\", a[1].shape, \"a 1-D array\")"
   ]
  },
  {
   "cell_type": "code",
   "execution_count": null,
   "id": "744f36f2-bc11-45e5-8af6-f6ffa2dcc37c",
   "metadata": {},
   "outputs": [],
   "source": []
  }
 ],
 "metadata": {
  "kernelspec": {
   "display_name": "Python 3 (ipykernel)",
   "language": "python",
   "name": "python3"
  },
  "language_info": {
   "codemirror_mode": {
    "name": "ipython",
    "version": 3
   },
   "file_extension": ".py",
   "mimetype": "text/x-python",
   "name": "python",
   "nbconvert_exporter": "python",
   "pygments_lexer": "ipython3",
   "version": "3.10.5"
  }
 },
 "nbformat": 4,
 "nbformat_minor": 5
}
