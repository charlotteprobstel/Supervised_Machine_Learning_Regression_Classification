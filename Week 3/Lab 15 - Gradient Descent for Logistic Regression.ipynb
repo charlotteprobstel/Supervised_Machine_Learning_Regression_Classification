{
 "cells": [
  {
   "cell_type": "markdown",
   "id": "4da9116f-0675-481a-a304-7827a22f8805",
   "metadata": {},
   "source": [
    "## Gradient Descent for Logistic Regression"
   ]
  },
  {
   "cell_type": "markdown",
   "id": "b349f2d8-6768-4fa9-9fc8-60c87da9e39a",
   "metadata": {},
   "source": [
    "This lab will focus on: \n",
    "* learning to update the gradient descent for logistic regression, not linear regression\n",
    "* exploring such gradient descent algorithm on a familiar data set\n",
    "  "
   ]
  },
  {
   "cell_type": "markdown",
   "id": "19f58d0a-d2da-4662-97c1-a82266c84abf",
   "metadata": {},
   "source": [
    "## Tools"
   ]
  },
  {
   "cell_type": "code",
   "execution_count": 1,
   "id": "a660cf99-99a1-4b34-ac31-f41efd69960d",
   "metadata": {},
   "outputs": [],
   "source": [
    "import copy, math\n",
    "import numpy as np\n",
    "import matplotlib.pyplot as plt\n",
    "from lab_utils_common import dlc, plot_data, plt_tumor_data, sigmoid, compute_cost_logistic\n",
    "from plt_quad_logistic import plt_quad_logistic, plt_prob\n",
    "plt.style.use(\"./deeplearning.mplstyle\")"
   ]
  },
  {
   "cell_type": "markdown",
   "id": "51609db6-db7d-41cd-adcd-de99f56409c8",
   "metadata": {},
   "source": [
    "## Dataset"
   ]
  },
  {
   "cell_type": "code",
   "execution_count": 3,
   "id": "028128df-8966-4b52-b24f-dbdb8b782df4",
   "metadata": {},
   "outputs": [
    {
     "data": {
      "image/png": "[encoded data removed]",
      "text/plain": [
       "<Figure size 400x400 with 1 Axes>"
      ]
     },
     "metadata": {},
     "output_type": "display_data"
    }
   ],
   "source": [
    "X_train = np.array([[0.5, 1.5], [1,1], [1.5, 0.5], [3, 0.5], [2, 2], [1, 2.5]])\n",
    "y_train = np.array([0, 0, 0, 1, 1, 1])\n",
    "fig,ax = plt.subplots(1,1,figsize=(4,4))\n",
    "plot_data(X_train, y_train, ax)\n",
    "\n",
    "ax.axis([0, 4, 0, 3.5])\n",
    "ax.set_ylabel('$x_1$', fontsize=12)\n",
    "ax.set_xlabel('$x_0$', fontsize=12)\n",
    "plt.show()"
   ]
  },
  {
   "cell_type": "markdown",
   "id": "f857cd48-7bfd-454d-9d78-836afa29fbe2",
   "metadata": {},
   "source": [
    "## Gradient Descent"
   ]
  },
  {
   "cell_type": "code",
   "execution_count": 4,
   "id": "573fb5f9-3cc7-4d21-9331-73a24a1e77e0",
   "metadata": {},
   "outputs": [],
   "source": [
    "# Derivates with respect to w and b\n",
    "def compute_gradient_logistic(X, y, w, b): \n",
    "    \"\"\"\n",
    "    Computes the gradient for logistic regression \n",
    " \n",
    "    Args:\n",
    "      X (ndarray (m,n): Data, m examples with n features\n",
    "      y (ndarray (m,)): target values\n",
    "      w (ndarray (n,)): model parameters  \n",
    "      b (scalar)      : model parameter\n",
    "    Returns\n",
    "      dj_dw (ndarray (n,)): The gradient of the cost w.r.t. the parameters w. \n",
    "      dj_db (scalar)      : The gradient of the cost w.r.t. the parameter b. \n",
    "    \"\"\"\n",
    "    m,n = X.shape\n",
    "    dj_dw = np.zeros((n,))                           #(n,)\n",
    "    dj_db = 0.                                       #scalar \n",
    "\n",
    "    for i in range(m):                                #loops over all data points\n",
    "        f_wb_i = sigmoid(np.dot(X[i],w) + b)          #(n,)(n,) = predicitive scalar \n",
    "        err_i  = f_wb_i  - y[i]                       #error scalar \n",
    "        for j in range(n):\n",
    "            dj_dw[j] = dj_dw[j] + err_i * X[i,j]      #loops over all features, scalar\n",
    "        dj_db = dj_db + err_i                         \n",
    "    dj_dw = dj_dw/m                                   #(n,) --> weights for each feature \n",
    "    dj_db = dj_db/m                                   #scalar\n",
    "        \n",
    "    return dj_db, dj_dw  "
   ]
  },
  {
   "cell_type": "code",
   "execution_count": 5,
   "id": "1ccd6c8b-ef59-45bc-9f33-3133ce4bde80",
   "metadata": {},
   "outputs": [
    {
     "name": "stdout",
     "output_type": "stream",
     "text": [
      "dj_db: 0.49861806546328574\n",
      "dj_dw: [0.498333393278696, 0.49883942983996693]\n"
     ]
    }
   ],
   "source": [
    "X_tmp = np.array([[0.5, 1.5], [1,1], [1.5, 0.5], [3, 0.5], [2, 2], [1, 2.5]])\n",
    "y_tmp = np.array([0, 0, 0, 1, 1, 1])\n",
    "w_tmp = np.array([2.,3.])\n",
    "b_tmp = 1.\n",
    "dj_db_tmp, dj_dw_tmp = compute_gradient_logistic(X_tmp, y_tmp, w_tmp, b_tmp)\n",
    "print(f\"dj_db: {dj_db_tmp}\" )\n",
    "print(f\"dj_dw: {dj_dw_tmp.tolist()}\" )"
   ]
  },
  {
   "cell_type": "markdown",
   "id": "1c66fedf-ff4a-4171-9864-b45715305b2e",
   "metadata": {},
   "source": [
    "## grafient "
   ]
  }
 ],
 "metadata": {
  "kernelspec": {
   "display_name": "Python 3 (ipykernel)",
   "language": "python",
   "name": "python3"
  },
  "language_info": {
   "codemirror_mode": {
    "name": "ipython",
    "version": 3
   },
   "file_extension": ".py",
   "mimetype": "text/x-python",
   "name": "python",
   "nbconvert_exporter": "python",
   "pygments_lexer": "ipython3",
   "version": "3.10.5"
  }
 },
 "nbformat": 4,
 "nbformat_minor": 5
}
